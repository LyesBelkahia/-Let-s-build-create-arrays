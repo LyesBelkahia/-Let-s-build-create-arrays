{
 "cells": [
  {
   "cell_type": "code",
   "execution_count": 6,
   "id": "7639e300",
   "metadata": {},
   "outputs": [
    {
     "name": "stdout",
     "output_type": "stream",
     "text": [
      "[[57, 9, 27, 33], [67, 92, 50, 18], [18, 26, 93, 49]]\n"
     ]
    }
   ],
   "source": [
    "import numpy as np\n",
    "a=np.random.randint(1, 100, size=(3,4))\n",
    "\n",
    "print(np.ndarray.tolist(a))"
   ]
  },
  {
   "cell_type": "code",
   "execution_count": 50,
   "id": "7b4688b0",
   "metadata": {},
   "outputs": [
    {
     "name": "stdout",
     "output_type": "stream",
     "text": [
      "[[82 28 83]\n",
      " [38 17 24]\n",
      " [27 14 75]]\n",
      "174\n"
     ]
    }
   ],
   "source": [
    "import numpy as np\n",
    "a=np.random.randint(1, 100, size=(3,3))\n",
    "print(a)\n",
    "print(np.trace(a))"
   ]
  },
  {
   "cell_type": "code",
   "execution_count": 63,
   "id": "d366c28c",
   "metadata": {},
   "outputs": [
    {
     "name": "stdout",
     "output_type": "stream",
     "text": [
      "[[91 85 93]\n",
      " [58 50 58]\n",
      " [10 84 40]]\n",
      "181\n"
     ]
    }
   ],
   "source": [
    "import numpy as np\n",
    "a=np.random.randint(1, 100, size=(3,3))\n",
    "print(a)\n",
    "b=0\n",
    "c=np.ndarray.tolist(a)\n",
    "for i in range(len(c)):\n",
    "    b=b+a[i,i]\n",
    "print(b)\n"
   ]
  },
  {
   "cell_type": "code",
   "execution_count": 29,
   "id": "62662804",
   "metadata": {},
   "outputs": [
    {
     "name": "stdout",
     "output_type": "stream",
     "text": [
      "original array :\n",
      "[[18 43 19 18]\n",
      " [ 4 48 33  7]\n",
      " [37 40 34 49]]\n",
      "values that are bigger than 5 : [18 43 19 18 48 33  7 37 40 34 49]\n"
     ]
    }
   ],
   "source": [
    "import numpy as np\n",
    "a=np.random.randint(1, 50, size=(3,4))\n",
    "\n",
    "print(\"original array :\")\n",
    "print(a)\n",
    "print(\"values that are bigger than 5 :\", a[a>5])"
   ]
  },
  {
   "cell_type": "code",
   "execution_count": 31,
   "id": "8604435d",
   "metadata": {},
   "outputs": [
    {
     "name": "stdout",
     "output_type": "stream",
     "text": [
      "the first array is :\n",
      "[[ 6  4 27 14]\n",
      " [12 38 49 22]\n",
      " [46 39 15 25]]\n",
      "the second array is :\n",
      "[[ 6 20 13 19]\n",
      " [43 29 32 42]\n",
      " [39 45 11 27]]\n",
      "if we sum the values of those arrays, we have :\n",
      "[[12 24 40 33]\n",
      " [55 67 81 64]\n",
      " [85 84 26 52]]\n"
     ]
    }
   ],
   "source": [
    "import numpy as np\n",
    "a=np.random.randint(1, 50, size=(3,4))\n",
    "b=np.random.randint(1, 50, size=(3,4))\n",
    "c=a+b\n",
    "print(\"the first array is :\")\n",
    "print(a)\n",
    "print(\"the second array is :\")\n",
    "print(b)\n",
    "print(\"if we sum the values of those arrays, we have :\")\n",
    "print(c)"
   ]
  },
  {
   "cell_type": "code",
   "execution_count": 49,
   "id": "903de405",
   "metadata": {},
   "outputs": [
    {
     "name": "stdout",
     "output_type": "stream",
     "text": [
      "the array is :\n",
      "[[4 6 3]\n",
      " [6 9 3]\n",
      " [4 1 7]]\n",
      "the means of the raws of this array are :\n",
      "[4.33333333 6.         4.        ]\n",
      "the subtract of those mean is -5.666666666666667\n"
     ]
    }
   ],
   "source": [
    "import numpy as np\n",
    "a=np.random.randint(1, 10, size=(3,3))\n",
    "print(\"the array is :\")\n",
    "print(a)\n",
    "b=np.mean(a, axis=1)\n",
    "print(\"the means of the raws of this array are :\")\n",
    "print(b)\n",
    "c=np.ndarray.tolist(b)\n",
    "d=c[0]\n",
    "for i in range(1, len(c)):\n",
    "    d=d-c[i]\n",
    "print(\"the subtract of those mean is\", d)"
   ]
  }
 ],
 "metadata": {
  "kernelspec": {
   "display_name": "Python 3 (ipykernel)",
   "language": "python",
   "name": "python3"
  },
  "language_info": {
   "codemirror_mode": {
    "name": "ipython",
    "version": 3
   },
   "file_extension": ".py",
   "mimetype": "text/x-python",
   "name": "python",
   "nbconvert_exporter": "python",
   "pygments_lexer": "ipython3",
   "version": "3.9.7"
  }
 },
 "nbformat": 4,
 "nbformat_minor": 5
}
